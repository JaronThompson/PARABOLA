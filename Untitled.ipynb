{
 "cells": [
  {
   "cell_type": "code",
   "execution_count": 1,
   "id": "8cbcbcde",
   "metadata": {},
   "outputs": [
    {
     "name": "stderr",
     "output_type": "stream",
     "text": [
      "<frozen importlib._bootstrap>:228: RuntimeWarning: scipy._lib.messagestream.MessageStream size changed, may indicate binary incompatibility. Expected 56 from C header, got 64 from PyObject\n",
      "Matplotlib created a temporary config/cache directory at /tmp/matplotlib-78m46xjn because the default path (/home/jaron/.cache/matplotlib) is not a writable directory; it is highly recommended to set the MPLCONFIGDIR environment variable to a writable directory, in particular to speed up the import of Matplotlib and to better support multiprocessing.\n"
     ]
    }
   ],
   "source": [
    "import numpy as np\n",
    "import jax.numpy as jnp\n",
    "from jax import jacfwd \n",
    "\n",
    "from jax.nn import tanh\n",
    "\n",
    "from scipy.optimize import minimize\n",
    "\n",
    "import matplotlib.pyplot as plt"
   ]
  },
  {
   "cell_type": "code",
   "execution_count": 2,
   "id": "4e5fadbf",
   "metadata": {},
   "outputs": [],
   "source": [
    "# generate data \n",
    "m = 1 \n",
    "b = 1 \n",
    "n = 50\n",
    "s = .01\n",
    "\n",
    "x = np.linspace(-1, 1, n)\n",
    "t = m * x + b + s * np.random.randn(n) "
   ]
  },
  {
   "cell_type": "code",
   "execution_count": 3,
   "id": "b6206a71",
   "metadata": {},
   "outputs": [],
   "source": [
    "# goal is to use a neural network to map Gaussian noise to samples from posterior parameter distribution"
   ]
  },
  {
   "cell_type": "code",
   "execution_count": 4,
   "id": "8bd371d3",
   "metadata": {},
   "outputs": [],
   "source": [
    "# define model that takes in unknown parameters (latent variables)\n",
    "def model(x, z):\n",
    "    \n",
    "    m, b = z\n",
    "    \n",
    "    return m*x + b\n",
    "\n",
    "# neural net that samples from posterior \n",
    "n_inputs = 2 \n",
    "n_hidden = 4\n",
    "n_outputs = 2 \n",
    "\n",
    "# determine shapes of weights/biases = [Wih, bih, Who, bho]\n",
    "shapes = [[n_hidden, n_inputs], [n_hidden], [n_outputs, n_hidden], [n_outputs]]\n",
    "k_params = []\n",
    "n_params = 0\n",
    "for shape in shapes:\n",
    "    k_params.append(n_params)\n",
    "    n_params += np.prod(shape)\n",
    "k_params.append(n_params)\n",
    "\n",
    "# initialize parameters\n",
    "lmbda = np.zeros(n_params)\n",
    "for k1,k2,shape in zip(k_params, k_params[1:], shapes):\n",
    "    if len(shape)>1:\n",
    "        stdv = 1/np.sqrt(shape[-1])\n",
    "    lmbda[k1:k2] = stdv*np.random.randn(k2-k1,)\n",
    "\n",
    "# reshape parameters into weight matrices and bias vectors\n",
    "def reshape(params):\n",
    "    # params is a vector = [Wih, bih, Who, bho]\n",
    "    return [np.reshape(params[k1:k2], shape) for k1, k2, shape in\n",
    "            zip(k_params, k_params[1:], shapes)]\n",
    "\n",
    "def nn(y, lmbda):\n",
    "    \n",
    "    # weights and biases of nn\n",
    "    W1, b1, W2, b2 = reshape(lmbda)\n",
    "    \n",
    "    # hidden layer\n",
    "    h = tanh(np.einsum('ij,...j->...i', W1, y) + b1)\n",
    "    \n",
    "    # output\n",
    "    z = np.einsum('ij,...j->...i', W2, h) + b2\n",
    "    \n",
    "    return z"
   ]
  },
  {
   "cell_type": "code",
   "execution_count": 5,
   "id": "8bc180dd",
   "metadata": {},
   "outputs": [],
   "source": [
    "# ELBO cost function\n",
    "def cost(lmbda):\n",
    "    \n",
    "    # sample gaussian noise\n",
    "    y = np.random.randn(1000, n_inputs)\n",
    "    \n",
    "    # use nn to sample parameters\n",
    "    z = nn(y, lmbda)\n",
    "    \n",
    "    # evaluate model fitness \n",
    "    ELBO = 0. # .001 * np.sum(z**2) / z.shape[0]\n",
    "    for zi in z:\n",
    "        ELBO += np.sum((t - model(x, zi))**2) / z.shape[0]\n",
    "    \n",
    "    return ELBO "
   ]
  },
  {
   "cell_type": "code",
   "execution_count": 6,
   "id": "3dc75b97",
   "metadata": {},
   "outputs": [
    {
     "data": {
      "text/plain": [
       "  message: Desired error not necessarily achieved due to precision loss.\n",
       "  success: False\n",
       "   status: 2\n",
       "      fun: 74.18864537774422\n",
       "        x: [-1.331e-02  5.113e-01 ... -3.139e-01  3.183e-01]\n",
       "      nit: 0\n",
       "      jac: [ 1.618e+08  1.678e+08 ...  9.424e+07  2.646e+08]\n",
       " hess_inv: [[1 0 ... 0 0]\n",
       "            [0 1 ... 0 0]\n",
       "            ...\n",
       "            [0 0 ... 1 0]\n",
       "            [0 0 ... 0 1]]\n",
       "     nfev: 587\n",
       "     njev: 25"
      ]
     },
     "execution_count": 6,
     "metadata": {},
     "output_type": "execute_result"
    }
   ],
   "source": [
    "# minimize cost \n",
    "res = minimize(cost, lmbda)\n",
    "res"
   ]
  },
  {
   "cell_type": "code",
   "execution_count": 7,
   "id": "13b63493",
   "metadata": {},
   "outputs": [],
   "source": [
    "lmbda = res.x"
   ]
  },
  {
   "cell_type": "code",
   "execution_count": 9,
   "id": "6d2fe25b",
   "metadata": {},
   "outputs": [],
   "source": [
    "# sample gaussian noise\n",
    "y = np.random.randn(1000, n_inputs)\n",
    "z = nn(y, lmbda)"
   ]
  },
  {
   "cell_type": "code",
   "execution_count": 11,
   "id": "faea07ed",
   "metadata": {},
   "outputs": [
    {
     "data": {
      "image/png": "[encoded data removed]",
      "text/plain": [
       "<Figure size 640x480 with 1 Axes>"
      ]
     },
     "metadata": {},
     "output_type": "display_data"
    }
   ],
   "source": [
    "plt.hist(z[:, 1])\n",
    "plt.show()"
   ]
  }
 ],
 "metadata": {
  "kernelspec": {
   "display_name": "Python 3 (ipykernel)",
   "language": "python",
   "name": "python3"
  },
  "language_info": {
   "codemirror_mode": {
    "name": "ipython",
    "version": 3
   },
   "file_extension": ".py",
   "mimetype": "text/x-python",
   "name": "python",
   "nbconvert_exporter": "python",
   "pygments_lexer": "ipython3",
   "version": "3.9.16"
  }
 },
 "nbformat": 4,
 "nbformat_minor": 5
}
